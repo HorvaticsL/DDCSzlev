{
 "cells": [
  {
   "cell_type": "code",
   "execution_count": 1,
   "id": "c0957234-ba57-4199-adfa-9d17ede0b8f9",
   "metadata": {},
   "outputs": [
    {
     "data": {
      "application/vnd.jupyter.widget-view+json": {
       "model_id": "52dea488622d4c66934c51c37c333bde",
       "version_major": 2,
       "version_minor": 0
      },
      "text/plain": [
       "MitoWidget(analysis_data_json='{\"analysisName\": \"id-flhdaoovkb\", \"analysisToReplay\": null, \"code\": [], \"stepSu…"
      ]
     },
     "metadata": {},
     "output_type": "display_data"
    }
   ],
   "source": [
    "# Run this cell to render a mitosheet\n",
    "# See mito's documentation here: https://docs.trymito.io/how-to/creating-a-mitosheet\n",
    "# Join our Discord for support here: https://discord.gg/XdJSZyejJU\n",
    "\n",
    "import mitosheet\n",
    "mitosheet.sheet(analysis_to_replay=\"id-flhdaoovkb\")"
   ]
  },
  {
   "cell_type": "code",
   "execution_count": null,
   "id": "02886394-a408-4bd6-b919-dcfbacb22d9b",
   "metadata": {},
   "outputs": [],
   "source": [
    "from mitosheet import *; register_analysis(\"id-flhdaoovkb\");\n",
    "    \n",
    "# Imported Sheet1 from HL_2022_06(június)_original_0704_20220718.xlsx\n",
    "import pandas as pd\n",
    "sheet_df_dictonary = pd.read_excel(r'HL_2022_06(június)_original_0704_20220718.xlsx', engine='openpyxl', sheet_name=['Sheet1'], skiprows=0)\n",
    "Sheet1 = sheet_df_dictonary['Sheet1']\n"
   ]
  }
 ],
 "metadata": {
  "kernelspec": {
   "display_name": "Python 3 (ipykernel)",
   "language": "python",
   "name": "python3"
  },
  "language_info": {
   "codemirror_mode": {
    "name": "ipython",
    "version": 3
   },
   "file_extension": ".py",
   "mimetype": "text/x-python",
   "name": "python",
   "nbconvert_exporter": "python",
   "pygments_lexer": "ipython3",
   "version": "3.10.4"
  },
  "vscode": {
   "interpreter": {
    "hash": "cc713a4af586a6b0d5e0370dd78856148056469a00192fab132bffc501d5a55d"
   }
  },
  "widgets": {
   "application/vnd.jupyter.widget-state+json": {
    "state": {},
    "version_major": 2,
    "version_minor": 0
   }
  }
 },
 "nbformat": 4,
 "nbformat_minor": 5
}
